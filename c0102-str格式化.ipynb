{
 "cells": [
  {
   "cell_type": "markdown",
   "metadata": {},
   "source": [
    "### Chapter-0102：字符串的格式化输出\n",
    "#### 1. \" % \"占位符：%s 字符串 %d 整数 %f 浮点数 %x 十六进制整数"
   ]
  },
  {
   "cell_type": "code",
   "execution_count": 1,
   "metadata": {},
   "outputs": [
    {
     "name": "stdout",
     "output_type": "stream",
     "text": [
      "Hello, world\n",
      "Hi, Michael, you have $1000000.\n",
      " 3-01\n",
      "3.14\n"
     ]
    }
   ],
   "source": [
    "print(\"Hello, %s\" % \"world\")\n",
    "print(\"Hi, %s, you have $%d.\" % (\"Michael\", 1000000))\n",
    "print(\"%2d-%02d\" % (3, 1))  # 格式化整数和浮点数还可以指定是否补0和整数与小数的位数\n",
    "print(\"%.2f\" % 3.1415926)"
   ]
  },
  {
   "cell_type": "markdown",
   "metadata": {},
   "source": [
    "#### 2. \".format()\"方法：使用\"{}\"和\":\"代替\"%\"，再采用format()方法传入参数"
   ]
  },
  {
   "cell_type": "code",
   "execution_count": 3,
   "metadata": {},
   "outputs": [
    {
     "name": "stdout",
     "output_type": "stream",
     "text": [
      "Hello, 小明, 成绩提升了 17.125%\n",
      "Hello, 小明, 成绩提升了 17.1%\n",
      "Hello, 小明, 成绩提升了 17.1%\n",
      "Name:        Bob\n"
     ]
    }
   ],
   "source": [
    "print(\"Hello, {}, 成绩提升了 {}%\".format(\"小明\", 17.125))   # 位置参数类型1\n",
    "print(\"Hello, {0}, 成绩提升了 {1:.1f}%\".format(\"小明\", 17.125)) # 位置参数类型2, 1:.1f表示小数点后保留一位\n",
    "\n",
    "print(\"Hello, {name}, 成绩提升了 {rate:.1f}%\".format(name=\"小明\", rate=17.125))  # 关键字参数\n",
    "\n",
    "print(\"Name: {:>10}\".format(\"Bob\"))  # 右对齐并补空格"
   ]
  },
  {
   "cell_type": "markdown",
   "metadata": {},
   "source": [
    "#### 3. \"f-string\"方法：在字符串前添加\"f\"运算符，变量直接填入\"{}\"中"
   ]
  },
  {
   "cell_type": "code",
   "execution_count": 4,
   "metadata": {},
   "outputs": [
    {
     "name": "stdout",
     "output_type": "stream",
     "text": [
      "The area of a circle with radius 2.5 is 19.62\n"
     ]
    }
   ],
   "source": [
    "r = 2.5\n",
    "s = 3.14 * r**2\n",
    "print(f\"The area of a circle with radius {r} is {s:.2f}\")"
   ]
  }
 ],
 "metadata": {
  "kernelspec": {
   "display_name": "Python 3",
   "language": "python",
   "name": "python3"
  },
  "language_info": {
   "codemirror_mode": {
    "name": "ipython",
    "version": 3
   },
   "file_extension": ".py",
   "mimetype": "text/x-python",
   "name": "python",
   "nbconvert_exporter": "python",
   "pygments_lexer": "ipython3",
   "version": "3.11.0"
  }
 },
 "nbformat": 4,
 "nbformat_minor": 2
}
