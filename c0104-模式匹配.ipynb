{
 "cells": [
  {
   "cell_type": "markdown",
   "metadata": {},
   "source": [
    "### Chapter-0104：模式匹配\n",
    "\\* 为了解决多if语句判断的问题，python提供了match语句\n",
    "#### 1. 单变量匹配"
   ]
  },
  {
   "cell_type": "code",
   "execution_count": 1,
   "metadata": {},
   "outputs": [
    {
     "name": "stdout",
     "output_type": "stream",
     "text": [
      "良好\n"
     ]
    }
   ],
   "source": [
    "# * 适用于 Python 3.10 以上版本\n",
    "score = \"B\"\n",
    "match score:\n",
    "    case \"A\":\n",
    "        print(\"优秀\")\n",
    "    case \"B\":\n",
    "        print(\"良好\")\n",
    "    case \"C\":\n",
    "        print(\"及格\")\n",
    "    case _:\n",
    "        print(\"错误输入\")"
   ]
  },
  {
   "cell_type": "markdown",
   "metadata": {},
   "source": [
    "#### 2. 复杂匹配：多个值、一定范围、多个条件"
   ]
  },
  {
   "cell_type": "code",
   "execution_count": 2,
   "metadata": {},
   "outputs": [
    {
     "name": "stdout",
     "output_type": "stream",
     "text": [
      "11~18 years old.\n"
     ]
    }
   ],
   "source": [
    "age = 15\n",
    "match age:\n",
    "    case x if x < 10:\n",
    "        print(f\"< 10 years old : {x}\")\n",
    "    case 10:\n",
    "        print(\"10 years old.\")\n",
    "        # 使用 | 合并多个条件\n",
    "    case 11 | 12 | 13 | 14 | 15 | 16 | 17 | 18:\n",
    "        print(\"11~18 years old.\")\n",
    "    case 19:\n",
    "        print(\"19 years old.\")\n",
    "    case _:\n",
    "        print(\"not sure.\")"
   ]
  },
  {
   "cell_type": "markdown",
   "metadata": {},
   "source": [
    "#### 3. List匹配"
   ]
  },
  {
   "cell_type": "code",
   "execution_count": 3,
   "metadata": {},
   "outputs": [
    {
     "name": "stdout",
     "output_type": "stream",
     "text": [
      "gcc compile: hello.c, world.c\n"
     ]
    }
   ],
   "source": [
    "args = [\"gcc\", \"hello.c\", \"world.c\"]\n",
    "# args = ['clean']\n",
    "# args = ['gcc']\n",
    "match args:\n",
    "    # 如果仅出现gcc，报错:\n",
    "    case [\"gcc\"]:\n",
    "        print(\"gcc: missing source file(s).\")\n",
    "    # 出现gcc，且至少指定了一个文件:\n",
    "    case [\"gcc\", file1, *files]:\n",
    "        print(\"gcc compile: \" + file1 + \", \" + \", \".join(files))\n",
    "    # 仅出现clean:\n",
    "    case [\"clean\"]:\n",
    "        print(\"clean\")\n",
    "    case _:\n",
    "        print(\"invalid command.\")"
   ]
  }
 ],
 "metadata": {
  "kernelspec": {
   "display_name": "Python 3",
   "language": "python",
   "name": "python3"
  },
  "language_info": {
   "codemirror_mode": {
    "name": "ipython",
    "version": 3
   },
   "file_extension": ".py",
   "mimetype": "text/x-python",
   "name": "python",
   "nbconvert_exporter": "python",
   "pygments_lexer": "ipython3",
   "version": "3.11.0"
  }
 },
 "nbformat": 4,
 "nbformat_minor": 2
}
