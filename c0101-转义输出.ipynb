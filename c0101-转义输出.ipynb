{
 "cells": [
  {
   "cell_type": "markdown",
   "metadata": {},
   "source": [
    "### Chapter-0101：字符串的转义输出\n",
    "##### 1. 通用方法：即采用转义字符\"\\\\\""
   ]
  },
  {
   "cell_type": "code",
   "execution_count": 1,
   "metadata": {},
   "outputs": [
    {
     "name": "stdout",
     "output_type": "stream",
     "text": [
      "I'm \"OK\"!\n",
      "I'm learning\n",
      "Python.\n",
      "\u0000\n",
      "中文\n"
     ]
    }
   ],
   "source": [
    "print('I\\'m \"OK\"!')\n",
    "print(\"I'm learning\\nPython.\")  # 输出特殊字符，如换行符 \\n 制表符 \\t\n",
    "print(\"\\x00\")  # 输出不可见字符，如 \\x00 \\x0a \\x0d\n",
    "print(\"\\u4e2d\\u6587\")  # 输出 Unicode 字符，如 \\u4e2d \\u6587\n",
    "\n",
    "## 三引号：输出多行字符串\n"
   ]
  },
  {
   "cell_type": "markdown",
   "metadata": {},
   "source": [
    "#### 2. \"r-string\"方法：在字符串使用\"r\"运算符用于表示字符串内均转义"
   ]
  },
  {
   "cell_type": "code",
   "execution_count": 2,
   "metadata": {},
   "outputs": [
    {
     "name": "stdout",
     "output_type": "stream",
     "text": [
      "I\\'m \"OK\"!\n",
      "I'm learning\\nPython.\n"
     ]
    }
   ],
   "source": [
    "print(r'I\\'m \"OK\"!')\n",
    "print(r\"I'm learning\\nPython.\")"
   ]
  },
  {
   "cell_type": "markdown",
   "metadata": {},
   "source": [
    "#### 3. 多行输出字符串：\" \"\"\" \"三引号内可以设置多行输出"
   ]
  },
  {
   "cell_type": "code",
   "execution_count": 1,
   "metadata": {},
   "outputs": [
    {
     "name": "stdout",
     "output_type": "stream",
     "text": [
      "line1\n",
      "line2\n",
      "line3\n"
     ]
    }
   ],
   "source": [
    "print(\n",
    "    \"\"\"line1\n",
    "line2\n",
    "line3\"\"\"\n",
    ")\n"
   ]
  },
  {
   "cell_type": "markdown",
   "metadata": {},
   "source": [
    "##### Tips：除法运算包含三类：精确除法、取整除法和取余除法"
   ]
  },
  {
   "cell_type": "code",
   "execution_count": 3,
   "metadata": {},
   "outputs": [
    {
     "name": "stdout",
     "output_type": "stream",
     "text": [
      "3.3333333333333335\n",
      "3\n",
      "1\n"
     ]
    }
   ],
   "source": [
    "print(10 / 3)  # 3.3333333333333335\n",
    "print(10 // 3)  # 3 （又称地板除法）\n",
    "print(10 % 3)  # 1\n",
    "# tips: python中常常采用全部大写的变量名表示常量"
   ]
  }
 ],
 "metadata": {
  "kernelspec": {
   "display_name": "Python 3",
   "language": "python",
   "name": "python3"
  },
  "language_info": {
   "codemirror_mode": {
    "name": "ipython",
    "version": 3
   },
   "file_extension": ".py",
   "mimetype": "text/x-python",
   "name": "python",
   "nbconvert_exporter": "python",
   "pygments_lexer": "ipython3",
   "version": "3.11.0"
  }
 },
 "nbformat": 4,
 "nbformat_minor": 2
}
