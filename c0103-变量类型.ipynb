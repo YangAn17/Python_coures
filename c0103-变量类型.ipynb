{
 "cells": [
  {
   "cell_type": "markdown",
   "metadata": {},
   "source": [
    "### Chapter-0103：python中有趣的变量类型\n",
    "#### 1. List列表：一种有序的集合，可以随时添加和删除其中的元素"
   ]
  },
  {
   "cell_type": "code",
   "execution_count": 3,
   "metadata": {},
   "outputs": [
    {
     "name": "stdout",
     "output_type": "stream",
     "text": [
      "['Michael', 'Bob', 'Tracy']\n",
      "3\n",
      "['Michael', 'Bob', 'Tracy', 'Adam']\n",
      "['Michael', 'Jack', 'Bob', 'Tracy', 'Adam']\n",
      "['Michael', 'Jack', 'Bob', 'Tracy']\n",
      "['Michael', 'Bob', 'Tracy']\n"
     ]
    }
   ],
   "source": [
    "classmates = [\"Michael\", \"Bob\", \"Tracy\"]\n",
    "print(classmates)\n",
    "\n",
    "# len() 函数可以获得list元素的个数\n",
    "print(len(classmates))\n",
    "\n",
    "# append() 方法可以追加元素到list末尾\n",
    "classmates.append(\"Adam\")\n",
    "print(classmates)\n",
    "\n",
    "# insert() 方法可以把元素插入到指定的位置\n",
    "classmates.insert(1, \"Jack\")\n",
    "print(classmates)\n",
    "\n",
    "# pop() 方法可以删除list末尾的元素\n",
    "classmates.pop()\n",
    "print(classmates)\n",
    "\n",
    "# pop(i) 方法可以删除list指定位置的元素\n",
    "classmates.pop(1)\n",
    "print(classmates)"
   ]
  },
  {
   "cell_type": "markdown",
   "metadata": {},
   "source": [
    "#### 2. Tuple元组：一种有序的集合，一旦初始化就不能修改"
   ]
  },
  {
   "cell_type": "code",
   "execution_count": 8,
   "metadata": {},
   "outputs": [
    {
     "name": "stdout",
     "output_type": "stream",
     "text": [
      "(1) Value is 1, and type is <class 'int'>\n",
      "(1,) Value is (1,), and type is <class 'tuple'>\n",
      "('a', 'b', ['X', 'Y'])\n"
     ]
    }
   ],
   "source": [
    "# 为了避免歧义，tuple定义时，元素后面加上逗号\n",
    "t = (1)\n",
    "print(\"(1) Value is {}, and type is {}\".format(t, type(t)))  # 这是一个数\n",
    "t = (1,)\n",
    "print(\"(1,) Value is {}, and type is {}\".format(t, type(t)))  # 这是一个数\n",
    "\n",
    "\"\"\"\n",
    "    tuple所谓的不变是说指向的元素不变，\n",
    "    即指向'a'，就不能改成指向'b'，但指向的'a'本身是可变的\n",
    "\"\"\"\n",
    "t = (\"a\", \"b\", [\"A\", \"B\"])\n",
    "t[2][0] = \"X\"\n",
    "t[2][1] = \"Y\"\n",
    "print(t)"
   ]
  },
  {
   "cell_type": "markdown",
   "metadata": {},
   "source": [
    "#### 3. dict字典：使用键-值存储的一种变量类型，具有极快的查找速度"
   ]
  },
  {
   "cell_type": "code",
   "execution_count": 9,
   "metadata": {},
   "outputs": [
    {
     "name": "stdout",
     "output_type": "stream",
     "text": [
      "95\n",
      "67\n",
      "75\n",
      "{'Michael': 95, 'Tracy': 85, 'Adam': 67}\n",
      "False\n",
      "None\n",
      "-1\n"
     ]
    }
   ],
   "source": [
    "d = {\"Michael\": 95, \"Bob\": 75, \"Tracy\": 85}\n",
    "print(d[\"Michael\"])  # 95\n",
    "\n",
    "# 放入字典需增加key和value\n",
    "# ! dict的key必须是不可变对象\n",
    "d[\"Adam\"] = 67\n",
    "print(d[\"Adam\"])  # 67\n",
    "\n",
    "# pop()方法：删除一对key-value\n",
    "print(d.pop(\"Bob\"))\n",
    "print(d)  # {'Michael': 95, 'Tracy': 85}\n",
    "\n",
    "# in语句：判断key是否存在\n",
    "print(\"Thomas\" in d)  # False\n",
    "\n",
    "# get()方法：判断key是否存在，返回None或指定的value\n",
    "print(d.get(\"Thomas\"))  # None\n",
    "print(d.get(\"Thomas\", -1))  # -1"
   ]
  },
  {
   "cell_type": "markdown",
   "metadata": {},
   "source": [
    "#### 4. set集合：仅包含一组键的集合，不存储value且key不重复"
   ]
  },
  {
   "cell_type": "code",
   "execution_count": 10,
   "metadata": {},
   "outputs": [
    {
     "name": "stdout",
     "output_type": "stream",
     "text": [
      "{1, 2, 3}\n",
      "{1, 2, 3}\n",
      "{1, 2, 3, 4}\n",
      "{1, 2, 3}\n",
      "{2, 3}\n",
      "{1, 2, 3, 4}\n"
     ]
    }
   ],
   "source": [
    "# 创建set需要一个list作为输入集合\n",
    "s = set([1, 2, 3])\n",
    "print(s)  # {1, 2, 3}\n",
    "\n",
    "# 重复元素在set中自动被过滤\n",
    "s = set([1, 1, 2, 2, 3, 3])\n",
    "print(s)  # {1, 2, 3}\n",
    "\n",
    "# add(key)方法：添加key\n",
    "s.add(4)\n",
    "print(s)  # {1, 2, 3, 4}\n",
    "\n",
    "# remove(key)方法：删除元素\n",
    "s.remove(4)\n",
    "print(s)  # {1, 2, 3}\n",
    "\n",
    "\"\"\"\n",
    "    set可以看成数学意义上的无序和无重复元素的集合，\n",
    "    两个set可以做数学意义上的交集、并集等操作\n",
    "\"\"\"\n",
    "s1 = set([1, 2, 3])\n",
    "s2 = set([2, 3, 4])\n",
    "print(s1 & s2)  # {2, 3}\n",
    "print(s1 | s2)  # {1, 2, 3, 4}"
   ]
  }
 ],
 "metadata": {
  "kernelspec": {
   "display_name": "Python 3",
   "language": "python",
   "name": "python3"
  },
  "language_info": {
   "codemirror_mode": {
    "name": "ipython",
    "version": 3
   },
   "file_extension": ".py",
   "mimetype": "text/x-python",
   "name": "python",
   "nbconvert_exporter": "python",
   "pygments_lexer": "ipython3",
   "version": "3.11.0"
  }
 },
 "nbformat": 4,
 "nbformat_minor": 2
}
